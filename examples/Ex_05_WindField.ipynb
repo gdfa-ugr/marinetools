{
 "cells": [
  {
   "cell_type": "markdown",
   "metadata": {},
   "source": [
    "# Ex.05: Wind field at the Gulf of Cadiz"
   ]
  },
  {
   "cell_type": "markdown",
   "metadata": {},
   "source": [
    "The fifth example generate several realizations of a multivariate time series of the wind field (mean wind velocity, Wv, and mean incoming wind direction, Wd) hindcasted at 10 m above the mean sea level at the SIMAR point 1052048 located at 37ºN, 7ºW in the Gulf of Cádiz (Source: [Puertos del Estado](\\href{https://puertos.es/), Spain). The origintal time series has≈56 years duration, with data that spans from 1958/01/05 to 2011/12/15 with a 3-hours temporal cadence. The steps will be the following: \n",
    "\n",
    "1. Load marinetools packages\n",
    "2. Read the dictionaries from previous marginal fit and multivariate and temporal dependence of Ww and Wd and create the dictionary for the simulation\n",
    "3. Call marinetools.temporal.simulation.simulation for generating new statistically equivalent timeseries\n",
    "4. Check the simulations through the wind roses and joint probability density functions."
   ]
  },
  {
   "cell_type": "markdown",
   "metadata": {},
   "source": [
    "## 1. Load marinetools package\n",
    "\n",
    "The following code load the basic functions (read data, simulations and plots) included in marinetools"
   ]
  },
  {
   "cell_type": "code",
   "execution_count": 1,
   "metadata": {},
   "outputs": [],
   "source": [
    "from marinetools.utils import read\n",
    "from marinetools.temporal import simulation\n",
    "from marinetools.graphics import plots"
   ]
  },
  {
   "cell_type": "markdown",
   "metadata": {},
   "source": [
    "## 2. Read the input dictionaries\n",
    "\n",
    "The following code read the dictionaries with the marginal fit of each variable and the multivariate and temporal dependency. We motivate the readers to make the previous fit using the key parameters that can be found in the dictionaries."
   ]
  },
  {
   "cell_type": "code",
   "execution_count": 2,
   "metadata": {},
   "outputs": [],
   "source": [
    "params = {}\n",
    "params[\"Wv\"] = read.rjson(\n",
    "        \"marginalfit/Wv_genpareto_lognorm_genpareto_0.05_0.96_nonst_1_trigonometric_4_SLSQP\"\n",
    "    )\n",
    "params[\"Wd\"] = read.rjson(\n",
    "        \"marginalfit/Wd_norm_norm_0.5_nonst_1_sinusoidal_12_SLSQP\"\n",
    "    )\n",
    "\n",
    "params[\"TD\"] = read.rjson(\"dependency/Wv_Wd_72_VAR\", \"td\")\n"
   ]
  },
  {
   "cell_type": "markdown",
   "metadata": {},
   "source": [
    "## 3. Make the simulations\n",
    "Once the results from previous analysis are read, it is created the dictionary for the parameters of the time series simulation as:"
   ]
  },
  {
   "cell_type": "code",
   "execution_count": 3,
   "metadata": {},
   "outputs": [],
   "source": [
    "params[\"TS\"] = {\n",
    "        \"start\": \"2026/02/01 00:00:00\",\n",
    "        \"end\": \"2046/01/01 00:00:00\",\n",
    "        \"freq\": \"H\",\n",
    "        \"nosim\": 5,\n",
    "        \"folder\": \"simulations_SIMAR_Cadiz\",\n",
    "    }"
   ]
  },
  {
   "cell_type": "markdown",
   "metadata": {},
   "source": [
    "The options that are given are: the start and end of the simulation, number of simulations and the folder where simulations will be saved. To run the simulations it is required to code:"
   ]
  },
  {
   "cell_type": "code",
   "execution_count": 4,
   "metadata": {},
   "outputs": [
    {
     "ename": "KeyError",
     "evalue": "'file_name'",
     "output_type": "error",
     "traceback": [
      "\u001b[1;31m---------------------------------------------------------------------------\u001b[0m",
      "\u001b[1;31mKeyError\u001b[0m                                  Traceback (most recent call last)",
      "Input \u001b[1;32mIn [4]\u001b[0m, in \u001b[0;36m<module>\u001b[1;34m\u001b[0m\n\u001b[1;32m----> 1\u001b[0m \u001b[43msimulation\u001b[49m\u001b[38;5;241;43m.\u001b[39;49m\u001b[43msimulation\u001b[49m\u001b[43m(\u001b[49m\u001b[43mparams\u001b[49m\u001b[43m)\u001b[49m\n",
      "File \u001b[1;32m~\\Desktop\\paper\\src\\marinetools\\temporal\\simulation.py:42\u001b[0m, in \u001b[0;36msimulation\u001b[1;34m(param, tidalConstituents, dur_storm_calms, seed, ensemble, include)\u001b[0m\n\u001b[0;32m     23\u001b[0m \u001b[38;5;124;03m\"\"\"Simulates time series with the probability model given in param and the temporal dependency given in df_dt\u001b[39;00m\n\u001b[0;32m     24\u001b[0m \n\u001b[0;32m     25\u001b[0m \u001b[38;5;124;03mArgs:\u001b[39;00m\n\u001b[1;32m   (...)\u001b[0m\n\u001b[0;32m     38\u001b[0m \n\u001b[0;32m     39\u001b[0m \u001b[38;5;124;03m\"\"\"\u001b[39;00m\n\u001b[0;32m     41\u001b[0m \u001b[38;5;66;03m# Read the multivariate and temporal dependency parameters\u001b[39;00m\n\u001b[1;32m---> 42\u001b[0m df_dt \u001b[38;5;241m=\u001b[39m read\u001b[38;5;241m.\u001b[39mrjson(\u001b[43mparam\u001b[49m\u001b[43m[\u001b[49m\u001b[38;5;124;43m\"\u001b[39;49m\u001b[38;5;124;43mTD\u001b[39;49m\u001b[38;5;124;43m\"\u001b[39;49m\u001b[43m]\u001b[49m\u001b[43m[\u001b[49m\u001b[38;5;124;43m\"\u001b[39;49m\u001b[38;5;124;43mfile_name\u001b[39;49m\u001b[38;5;124;43m\"\u001b[39;49m\u001b[43m]\u001b[49m, \u001b[38;5;124m\"\u001b[39m\u001b[38;5;124mtd\u001b[39m\u001b[38;5;124m\"\u001b[39m)\n\u001b[0;32m     44\u001b[0m \u001b[38;5;66;03m# Check number of simulations\u001b[39;00m\n\u001b[0;32m     45\u001b[0m np\u001b[38;5;241m.\u001b[39mrandom\u001b[38;5;241m.\u001b[39mseed(seed)\n",
      "\u001b[1;31mKeyError\u001b[0m: 'file_name'"
     ]
    }
   ],
   "source": [
    "simulation.simulation(params)"
   ]
  },
  {
   "cell_type": "markdown",
   "metadata": {},
   "source": [
    "The result will be saved in the folder \"simulatinos_SIMAR_Cadiz\" as \"simulation_XXXX.zip\" where XXXX begins at 0001 and end with the number of simulations. Note the extension of the file is zip, a compress file of pandas csv file which reduce the size of the files."
   ]
  },
  {
   "cell_type": "markdown",
   "metadata": {},
   "source": [
    "## 4. Verify the simulations\n",
    "\n",
    "Finally, the following lines show how to read one simulation and makes wind roses or joint probability density functions to check the goodness of the simulations."
   ]
  },
  {
   "cell_type": "code",
   "execution_count": null,
   "metadata": {},
   "outputs": [],
   "source": [
    "data = read.csv(\"data/Cadiz_data.csv\", ts=True)\n",
    "sim = read.csv(\"simulations_SIMAR_Cadiz/simulation_0001.zip\")\n",
    "\n",
    "plots.bivariate_pdf(sim, data, [\"Wv\", \"Wd\"])"
   ]
  },
  {
   "cell_type": "markdown",
   "metadata": {},
   "source": [
    "The next lines show how to create two plots with the wind rose of observed data and simulated data."
   ]
  },
  {
   "cell_type": "code",
   "execution_count": null,
   "metadata": {},
   "outputs": [],
   "source": [
    "plots.wrose(data[\"DirM\"], data[\"Hs\"])\n",
    "plots.wrose(sim[\"DirM\"], sim[\"Hs\"])"
   ]
  },
  {
   "cell_type": "markdown",
   "metadata": {},
   "source": [
    "Further information of this analysis can be found in  [[1]](#1) and [[2]](#2)."
   ]
  },
  {
   "cell_type": "markdown",
   "metadata": {},
   "source": [
    "## References\n",
    "\n",
    "<a id=\"1\">[1]</a> \n",
    "M. Cobos, P. Otiñar, P. Magaña, A. Lira-Loarca, A. Baquerizo (2021). \n",
    "MarineTools.temporal: A Python package to simulate Earth and environmental timeseries\n",
    "Submitted to Environmental Modelling & Software.\n",
    "\n",
    "\n",
    "<a id=\"2\">[2]</a> \n",
    "Cobos, M., Otíñar, P., Magaña, P., Baquerizo, A. (2021).\n",
    "A method to characterize and simulate climate, earth or environmental vector random processes. \n",
    "Submitted to Stochastic Environmental Research and Risk Assessment."
   ]
  }
 ],
 "metadata": {
  "interpreter": {
   "hash": "123d6e892dde0eaaf77021662f39277b0eb55e7d003991bb2cba8a025a50755a"
  },
  "kernelspec": {
   "display_name": "Python 3.6.13 64-bit ('download_data': conda)",
   "name": "python3"
  },
  "language_info": {
   "codemirror_mode": {
    "name": "ipython",
    "version": 3
   },
   "file_extension": ".py",
   "mimetype": "text/x-python",
   "name": "python",
   "nbconvert_exporter": "python",
   "pygments_lexer": "ipython3",
   "version": "3.8.12"
  },
  "orig_nbformat": 4
 },
 "nbformat": 4,
 "nbformat_minor": 2
}
