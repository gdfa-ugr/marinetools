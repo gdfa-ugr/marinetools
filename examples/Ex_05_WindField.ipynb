{
 "cells": [
  {
   "cell_type": "markdown",
   "source": [
    "# Ex.05: Wind field at the Gulf of Cadiz"
   ],
   "metadata": {}
  },
  {
   "cell_type": "markdown",
   "source": [
    "The fifth example generate several realizations of a multivariate time series of the wind field (mean wind velocity, Wv, and mean incoming wind direction, Wd) hindcasted at 10 m above the mean sea level at the SIMAR point 1052048 located at 37ºN, 7ºW in the Gulf of Cádiz (Source: [Puertos del Estado](\\href{https://puertos.es/), Spain). The origintal time series has≈56 years duration, with data that spans from 1958/01/05 to 2011/12/15 with a 3-hours temporal cadence. The steps will be the following: \n",
    "\n",
    "1. Load marinetools packages\n",
    "2. Read the dictionaries from previous marginal fit and multivariate and temporal dependence of Ww and Wd and create the dictionary for the simulation\n",
    "3. Call marinetools.temporal.simulation.simulation for generating new statistically equivalent timeseries\n",
    "4. Check the simulations through the wind roses and joint probability density functions."
   ],
   "metadata": {}
  },
  {
   "cell_type": "markdown",
   "source": [
    "## 1. Load marinetools package\n",
    "\n",
    "The following code load the basic functions (read data, simulations and plots) included in marinetools"
   ],
   "metadata": {}
  },
  {
   "cell_type": "code",
   "execution_count": null,
   "source": [
    "from marinetools.utils import read\n",
    "from marinetools.temporal import simulation\n",
    "from marinetools.graphics import plots"
   ],
   "outputs": [],
   "metadata": {}
  },
  {
   "cell_type": "markdown",
   "source": [
    "## 2. Read the input dictionaries\n",
    "\n",
    "The following code read the dictionaries with the marginal fit of each variable and the multivariate and temporal dependency. We motivate the readers to make the previous fit using the key parameters that can be found in the dictionaries."
   ],
   "metadata": {}
  },
  {
   "cell_type": "code",
   "execution_count": null,
   "source": [
    "params = {}\n",
    "params[\"Wv\"] = read.rjson(\n",
    "        \"marginalfit/Wv_genpareto_lognorm_genpareto_0.05_0.96_nonst_1_trigonometric_4_SLSQP\"\n",
    "    )\n",
    "params[\"Wd\"] = read.rjson(\n",
    "        \"marginalfit/Wd_norm_norm_0.5_nonst_1_sinusoidal_12_SLSQP\"\n",
    "    )\n",
    "\n",
    "params[\"TD\"] = read.rjson(\"dependency/Wv_Wd_72_VAR\", \"td\")\n"
   ],
   "outputs": [],
   "metadata": {}
  },
  {
   "cell_type": "markdown",
   "source": [
    "## 3. Make the simulations\n",
    "Once the results from previous analysis are read, it is created the dictionary for the parameters of the time series simulation as:"
   ],
   "metadata": {}
  },
  {
   "source": [
    "params[\"TS\"]: {\n",
    "        \"start\": \"2026/02/01 00:00:00\",\n",
    "        \"end\": \"2046/01/01 00:00:00\",\n",
    "        \"nosim\": 5,\n",
    "        \"folder\": \"simulations_SIMAR_Cadiz\",\n",
    "    }\n",
    "\n"
   ],
   "cell_type": "code",
   "metadata": {},
   "execution_count": null,
   "outputs": []
  },
  {
   "cell_type": "markdown",
   "source": [
    "The options that are given are: the start and end of the simulation, number of simulations and the folder where simulations will be saved. To run the simulations it is required to code:"
   ],
   "metadata": {}
  },
  {
   "cell_type": "code",
   "execution_count": null,
   "source": [
    "simulation.simulation(params)"
   ],
   "outputs": [],
   "metadata": {}
  },
  {
   "cell_type": "markdown",
   "source": [
    "The result will be saved in the folder \"simulatinos_SIMAR_Cadiz\" as \"simulation_XXXX.zip\" where XXXX begins at 0001 and end with the number of simulations. Note the extension of the file is zip, a compress file of pandas csv file which reduce the size of the files."
   ],
   "metadata": {}
  },
  {
   "cell_type": "markdown",
   "source": [
    "## 4. Verify the simulations\n",
    "\n",
    "Finally, the following lines show how to read one simulation and makes wind roses or joint probability density functions to check the goodness of the simulations."
   ],
   "metadata": {}
  },
  {
   "cell_type": "code",
   "execution_count": null,
   "source": [
    "sim = read.csv(\"simulations_SIMAR_Cadiz/simulation_0001.zip\")\n",
    "\n",
    "plots.bivariate_pdf(sim, data, [\"Wv\", \"Wd\"])"
   ],
   "outputs": [],
   "metadata": {}
  },
  {
   "cell_type": "markdown",
   "source": [
    "The next lines show how to create two plots with the wind rose of observed data and simulated data."
   ],
   "metadata": {}
  },
  {
   "cell_type": "code",
   "execution_count": null,
   "metadata": {},
   "outputs": [],
   "source": [
    "plots.wrose(data[\"DirM\"], data[\"Hs\"])\n",
    "plots.wrose(sim[\"DirM\"], sim[\"Hs\"])"
   ]
  },
  {
   "source": [
    "Further information of this analysis can be found in  [[1]](#1) and [[2]](#2)."
   ],
   "cell_type": "markdown",
   "metadata": {}
  },
  {
   "source": [
    "## References\n",
    "\n",
    "<a id=\"1\">[1]</a> \n",
    "M. Cobos, P. Otiñar, P. Magaña, A. Lira-Loarca, A. Baquerizo (2021). \n",
    "MarineTools.temporal (v 1.0.0): A Python package to simulate Earth and environmental timeseries\n",
    "Submitted to Environmental Modelling & Software.\n",
    "\n",
    "\n",
    "<a id=\"2\">[2]</a> \n",
    "Cobos, M., Otíñar, P., Magaña, P., Baquerizo, A. (2021).\n",
    "A method to characterize and simulate climate, earth or environmental vector random processes. \n",
    "Submitted to  Probabilistic Engineering & Mechanics."
   ],
   "cell_type": "markdown",
   "metadata": {}
  }
 ],
 "metadata": {
  "interpreter": {
   "hash": "123d6e892dde0eaaf77021662f39277b0eb55e7d003991bb2cba8a025a50755a"
  },
  "kernelspec": {
   "display_name": "Python 3.6.13 64-bit ('download_data': conda)",
   "name": "python3"
  },
  "language_info": {
   "name": "python",
   "version": ""
  },
  "orig_nbformat": 4
 },
 "nbformat": 4,
 "nbformat_minor": 2
}