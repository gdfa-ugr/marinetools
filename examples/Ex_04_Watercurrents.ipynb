{
 "cells": [
  {
   "cell_type": "markdown",
   "source": [
    "# Ex.04: Water currents at the Strait of Gibraltar"
   ],
   "metadata": {}
  },
  {
   "cell_type": "markdown",
   "source": [
    "The fourth example analyzes the multivariate time series of the water current field (mean current velocity, U, and mean incoming current direction, DirU) hindcasted at 0.5058 m below the mean sea level at a point located in 35.916º N, 5.5º W at the Strait of Gibraltar (data provided by [Marine Copernicus System](\\href{https://marine.copernicus.eu/)). The hindcast time series has≈27 years duration, with data that spans from 1993/01/01 to 2019/12/31 with a daily temporal cadence. The IBI (Iberian Biscay Irish) Ocean Reanalysis system provides 3D ocean fields (product identifier \"IBI_MULTIYEAR_PHY_005_002\"). The IBI model numerical core is based on the NEMO v3.6 ocean general circulation model run at 1/12º horizontal resolution. The steps will be the following: \n",
    "\n",
    "1. Load marinetools packages\n",
    "2. Read the input data and the dictionaries from previous marginal fit of U and DirU\n",
    "3. Create the dictionary for the multivariate and temporal dependency analysis and call marinetools.temporal.analysis.dependency for fitting the parameters of the VAR\n",
    "4. Verify the results of the analysis"
   ],
   "metadata": {}
  },
  {
   "cell_type": "markdown",
   "source": [
    "## 1. Load marinetools packages\n",
    "\n",
    "The following code load the basic functions (read data, analysis and plots) included in marinetools"
   ],
   "metadata": {}
  },
  {
   "cell_type": "code",
   "execution_count": null,
   "source": [
    "from marinetools.utils import read\r\n",
    "from marinetools.temporal import analysis\r\n",
    "from marinetools.graphics import plots"
   ],
   "outputs": [],
   "metadata": {}
  },
  {
   "cell_type": "markdown",
   "source": [
    "## 2. Read the input data and the dictionary from the marginal fit\n",
    "\n",
    "For examples of reading files go to Ex01, 02 or 03. The following code read the projections of freshwater river discharge from the RCP2.6 of the REMO2009 model in variable called \"Qd\". The input file is a xlsx file. As usually, some noise is included to ensure that the input variable is continuous and not discrete, which makes more difficult the analysis."
   ],
   "metadata": {}
  },
  {
   "cell_type": "code",
   "execution_count": null,
   "source": [
    "params = {}\n",
    "params[\"U\"] = read.rjson(\"marginalfit/U_norm_nonst_1_trigonometric_8_SLSQP\")\n",
    "params[\"DirU\"] = read.rjson(\n",
    "        \"marginalfit/DirU_weibull_max_nonst_1_trigonometric_8_SLSQP\"\n",
    "    )"
   ],
   "outputs": [],
   "metadata": {}
  },
  {
   "cell_type": "markdown",
   "source": [
    "First of all, a empty dictionary called params was created. Then, the information from the marginal fits was included (params[\"U\"] and params[\"DirU\"]). From the filename, U timeseries was fit with a non-stationary Gaussian model with a basis period of 1 year using a trigonometric time expansion until order 8. As in general, SLSQP optimize method was chosen. As it can be seen, the information was included in the dictionary called params."
   ],
   "metadata": {}
  },
  {
   "cell_type": "markdown",
   "source": [
    "## 3. Create the dictionary for the multivariate and temporal dependency and run the analysis\n",
    "\n",
    "The next step focus on the creation of the dictionary to the multivariate and temporal dependency. In this case, a VAR model was selected. The variables that go to the analysis are U and DirU and the maximum order to be analysis is 72."
   ],
   "metadata": {}
  },
  {
   "cell_type": "code",
   "execution_count": null,
   "source": [
    "params[\"TD\"] = {\n",
    "    \"vars\": [\"U\", \"DirU\"],\n",
    "    \"order\": 72,\n",
    "}\n",
    "\n",
    "analysis.dependencies(data.loc[:, params[\"TD\"][\"vars\"]], params)"
   ],
   "outputs": [],
   "metadata": {}
  },
  {
   "source": [
    "The parameters of the order with minimum BIC will be saved to a file called \"U_DirU_72_VAR.json\" in the folder name \"dependency\". This file contains the parameters of the best fit in the variable \"B\", the dimension of the fit which is equal to the number of variables (2), the covariance matrix \"Q\", the BIC of the order (id) selected. "
   ],
   "cell_type": "markdown",
   "metadata": {}
  },
  {
   "cell_type": "markdown",
   "source": [
    "## 4. Verificate the analysis\n",
    "\n",
    "The following code will show how to read the results of the dependency analysis. make some plots that show the parameters and relation between modeled and observed variables."
   ],
   "metadata": {}
  },
  {
   "cell_type": "code",
   "execution_count": null,
   "source": [
    "df_dt = read.rjson(\"dependency/U_DirU_72_VAR\", \"td\")"
   ],
   "outputs": [],
   "metadata": {}
  },
  {
   "source": [
    "The variable \"df_dt\" is a dictionary with the keys and values given in the previous section. Once the results are read, several plots can be make.\n"
   ],
   "cell_type": "markdown",
   "metadata": {}
  },
  {
   "cell_type": "code",
   "execution_count": null,
   "metadata": {},
   "outputs": [],
   "source": [
    "plots.scatter_error_dependencies(df_dt, params[\"TD\"][\"vars\"])\n",
    "plots.heatmap(df_dt[\"B\"], params[\"TD\"], \"B\")\n",
    "\n"
   ]
  },
  {
   "source": [
    "The first line of the last cell shows a scatter plot of the normalize cumulative distribution function of data and model while the second line shows a heatmap with the parameters. In the last case, the covariance parameters can also be shown changing \"B\" by \"Q\".\n",
    "\n",
    "Further information of this analysis can be found in  [[1]](#1) and [[2]](#2)."
   ],
   "cell_type": "markdown",
   "metadata": {}
  },
  {
   "source": [
    "## References\n",
    "\n",
    "<a id=\"1\">[1]</a> \n",
    "M. Cobos, P. Otiñar, P. Magaña, A. Lira-Loarca, A. Baquerizo (2021). \n",
    "MarineTools.temporal (v 1.0.0): A Python package to simulate Earth and environmental timeseries\n",
    "Submitted to Environmental Modelling & Software.\n",
    "\n",
    "\n",
    "<a id=\"2\">[2]</a> \n",
    "Cobos, M., Otíñar, P., Magaña, P., Baquerizo, A. (2021).\n",
    "A method to characterize and simulate climate, earth or environmental vector random processes. \n",
    "Submitted to  Probabilistic Engineering & Mechanics."
   ],
   "cell_type": "markdown",
   "metadata": {}
  }
 ],
 "metadata": {
  "interpreter": {
   "hash": "123d6e892dde0eaaf77021662f39277b0eb55e7d003991bb2cba8a025a50755a"
  },
  "kernelspec": {
   "display_name": "Python 3.6.13 64-bit ('download_data': conda)",
   "name": "python3"
  },
  "language_info": {
   "name": "python",
   "version": ""
  },
  "orig_nbformat": 4
 },
 "nbformat": 4,
 "nbformat_minor": 2
}