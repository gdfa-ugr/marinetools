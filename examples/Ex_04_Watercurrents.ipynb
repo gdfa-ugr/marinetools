{
 "cells": [
  {
   "cell_type": "markdown",
   "metadata": {},
   "source": [
    "# Ex.04: Water currents at the Strait of Gibraltar"
   ]
  },
  {
   "cell_type": "markdown",
   "metadata": {},
   "source": [
    "The fourth example analyzes the multivariate time series of the water current field (mean current velocity, U, and mean incoming current direction, DirU) hindcasted at 0.5058 m below the mean sea level at a point located in 35.916º N, 5.5º W at the Strait of Gibraltar (data provided by [Marine Copernicus System](\\href{https://marine.copernicus.eu/)). The hindcast time series has≈27 years duration, with data that spans from 1993/01/01 to 2019/12/31 with a daily temporal cadence. The IBI (Iberian Biscay Irish) Ocean Reanalysis system provides 3D ocean fields (product identifier \"IBI_MULTIYEAR_PHY_005_002\"). The IBI model numerical core is based on the NEMO v3.6 ocean general circulation model run at 1/12º horizontal resolution. The steps will be the following: \n",
    "\n",
    "1. Load marinetools packages\n",
    "2. Read the input data and the dictionaries from previous marginal fit of U and DirU\n",
    "3. Create the dictionary for the multivariate and temporal dependency analysis and call marinetools.temporal.analysis.dependency for fitting the parameters of the VAR\n",
    "4. Verify the results of the analysis"
   ]
  },
  {
   "cell_type": "markdown",
   "metadata": {},
   "source": [
    "## 1. Load marinetools packages\n",
    "\n",
    "The following code load the basic functions (read data, analysis and plots) included in marinetools"
   ]
  },
  {
   "cell_type": "code",
   "execution_count": 1,
   "metadata": {},
   "outputs": [],
   "source": [
    "from marinetools.utils import read\n",
    "from marinetools.temporal import analysis\n",
    "from marinetools.graphics import plots"
   ]
  },
  {
   "cell_type": "markdown",
   "metadata": {},
   "source": [
    "## 2. Read the input data and the dictionary from the marginal fit\n",
    "\n",
    "For examples of reading files go to Ex01, 02 or 03. The following code read the projections of freshwater river discharge from the RCP2.6 of the REMO2009 model in variable called \"Qd\". The input file is a xlsx file. As usually, some noise is included to ensure that the input variable is continuous and not discrete, which makes more difficult the analysis."
   ]
  },
  {
   "cell_type": "code",
   "execution_count": 2,
   "metadata": {},
   "outputs": [
    {
     "ename": "NameError",
     "evalue": "name 'xr' is not defined",
     "output_type": "error",
     "traceback": [
      "\u001b[1;31m---------------------------------------------------------------------------\u001b[0m",
      "\u001b[1;31mNameError\u001b[0m                                 Traceback (most recent call last)",
      "Input \u001b[1;32mIn [2]\u001b[0m, in \u001b[0;36m<module>\u001b[1;34m\u001b[0m\n\u001b[1;32m----> 1\u001b[0m ds \u001b[38;5;241m=\u001b[39m \u001b[43mxr\u001b[49m\u001b[38;5;241m.\u001b[39mopen_mfdataset(\n\u001b[0;32m      2\u001b[0m     \u001b[38;5;124m\"\u001b[39m\u001b[38;5;124mdata/MarineCopernicusSystem/strait_of_Gibraltar*\u001b[39m\u001b[38;5;124m\"\u001b[39m,\n\u001b[0;32m      3\u001b[0m     combine\u001b[38;5;241m=\u001b[39m\u001b[38;5;124m\"\u001b[39m\u001b[38;5;124mnested\u001b[39m\u001b[38;5;124m\"\u001b[39m,\n\u001b[0;32m      4\u001b[0m     concat_dim\u001b[38;5;241m=\u001b[39m\u001b[38;5;124m\"\u001b[39m\u001b[38;5;124mtime\u001b[39m\u001b[38;5;124m\"\u001b[39m,\n\u001b[0;32m      5\u001b[0m )\n\u001b[0;32m      6\u001b[0m data \u001b[38;5;241m=\u001b[39m ds\u001b[38;5;241m.\u001b[39msel(\n\u001b[0;32m      7\u001b[0m     depth\u001b[38;5;241m=\u001b[39m\u001b[38;5;241m0.494025\u001b[39m,\n\u001b[0;32m      8\u001b[0m     longitude\u001b[38;5;241m=\u001b[39m\u001b[38;5;241m-\u001b[39m\u001b[38;5;241m5.5\u001b[39m,\n\u001b[0;32m      9\u001b[0m     latitude\u001b[38;5;241m=\u001b[39m\u001b[38;5;241m35.9\u001b[39m,\n\u001b[0;32m     10\u001b[0m     method\u001b[38;5;241m=\u001b[39m\u001b[38;5;124m\"\u001b[39m\u001b[38;5;124mnearest\u001b[39m\u001b[38;5;124m\"\u001b[39m,\n\u001b[0;32m     11\u001b[0m )\u001b[38;5;241m.\u001b[39mto_dataframe()\n\u001b[0;32m     13\u001b[0m uo \u001b[38;5;241m=\u001b[39m data\u001b[38;5;241m.\u001b[39mloc[:, \u001b[38;5;124m\"\u001b[39m\u001b[38;5;124muo\u001b[39m\u001b[38;5;124m\"\u001b[39m]\n",
      "\u001b[1;31mNameError\u001b[0m: name 'xr' is not defined"
     ]
    }
   ],
   "source": [
    "ds = xr.open_mfdataset(\n",
    "    \"data/MarineCopernicusSystem/strait_of_Gibraltar*\",\n",
    "    combine=\"nested\",\n",
    "    concat_dim=\"time\",\n",
    ")\n",
    "data = ds.sel(\n",
    "    depth=0.494025,\n",
    "    longitude=-5.5,\n",
    "    latitude=35.9,\n",
    "    method=\"nearest\",\n",
    ").to_dataframe()\n",
    "\n",
    "uo = data.loc[:, \"uo\"]\n",
    "vo = data.loc[:, \"vo\"]\n",
    "\n",
    "diro = np.arctan2(vo, uo)\n",
    "dir = np.fmod(np.pi / 2 - diro, 2 * np.pi) * 180 / np.pi + 180\n",
    "data = pd.DataFrame(np.sqrt(uo ** 2 + vo ** 2), columns=[\"U\"])\n",
    "data[\"DirU\"] = dir\n",
    "\n",
    "\n",
    "\n",
    "params = {}\n",
    "params[\"U\"] = read.rjson(\"marginalfit/U_norm_nonst_1_trigonometric_8_SLSQP\")\n",
    "params[\"DirU\"] = read.rjson(\n",
    "        \"marginalfit/DirU_weibull_max_nonst_1_trigonometric_8_SLSQP\"\n",
    "    )"
   ]
  },
  {
   "cell_type": "markdown",
   "metadata": {},
   "source": [
    "First of all, a empty dictionary called params was created. Then, the information from the marginal fits was included (params[\"U\"] and params[\"DirU\"]). From the filename, U timeseries was fit with a non-stationary Gaussian model with a basis period of 1 year using a trigonometric time expansion until order 8. As in general, SLSQP optimize method was chosen. As it can be seen, the information was included in the dictionary called params."
   ]
  },
  {
   "cell_type": "markdown",
   "metadata": {},
   "source": [
    "## 3. Create the dictionary for the multivariate and temporal dependency and run the analysis\n",
    "\n",
    "The next step focus on the creation of the dictionary to the multivariate and temporal dependency. In this case, a VAR model was selected. The variables that go to the analysis are U and DirU and the maximum order to be analysis is 72."
   ]
  },
  {
   "cell_type": "code",
   "execution_count": null,
   "metadata": {},
   "outputs": [],
   "source": [
    "params[\"TD\"] = {\n",
    "    \"vars\": [\"U\", \"DirU\"],\n",
    "    \"mvar\": \"U\",\n",
    "    \"order\": 72,\n",
    "}\n",
    "\n",
    "analysis.dependencies(data.loc[:, params[\"TD\"][\"vars\"]], params)"
   ]
  },
  {
   "cell_type": "markdown",
   "metadata": {},
   "source": [
    "The parameters of the order with minimum BIC will be saved to a file called \"U_DirU_72_VAR.json\" in the folder name \"dependency\". This file contains the parameters of the best fit in the variable \"B\", the dimension of the fit which is equal to the number of variables (2), the covariance matrix \"Q\", the BIC of the order (id) selected. "
   ]
  },
  {
   "cell_type": "markdown",
   "metadata": {},
   "source": [
    "## 4. Verificate the analysis\n",
    "\n",
    "The following code will show how to read the results of the dependency analysis. make some plots that show the parameters and relation between modeled and observed variables."
   ]
  },
  {
   "cell_type": "code",
   "execution_count": null,
   "metadata": {},
   "outputs": [],
   "source": [
    "df_dt = read.rjson(\"dependency/U_DirU_72_VAR\", \"td\")"
   ]
  },
  {
   "cell_type": "markdown",
   "metadata": {},
   "source": [
    "The variable \"df_dt\" is a dictionary with the keys and values given in the previous section. Once the results are read, several plots can be make.\n"
   ]
  },
  {
   "cell_type": "code",
   "execution_count": null,
   "metadata": {},
   "outputs": [],
   "source": [
    "plots.scatter_error_dependencies(df_dt, params[\"TD\"][\"vars\"])\n",
    "plots.heatmap(df_dt[\"B\"], params[\"TD\"], \"B\")\n",
    "\n"
   ]
  },
  {
   "cell_type": "markdown",
   "metadata": {},
   "source": [
    "The first line of the last cell shows a scatter plot of the normalize cumulative distribution function of data and model while the second line shows a heatmap with the parameters. In the last case, the covariance parameters can also be shown changing \"B\" by \"Q\".\n",
    "\n",
    "Further information of this analysis can be found in  [[1]](#1) and [[2]](#2)."
   ]
  },
  {
   "cell_type": "markdown",
   "metadata": {},
   "source": [
    "## References\n",
    "\n",
    "<a id=\"1\">[1]</a> \n",
    "M. Cobos, P. Otiñar, P. Magaña, A. Lira-Loarca, A. Baquerizo (2021). \n",
    "MarineTools.temporal: A Python package to simulate Earth and environmental timeseries\n",
    "Submitted to Environmental Modelling & Software.\n",
    "\n",
    "\n",
    "<a id=\"2\">[2]</a> \n",
    "Cobos, M., Otíñar, P., Magaña, P., Baquerizo, A. (2021).\n",
    "A method to characterize and simulate climate, earth or environmental vector random processes. \n",
    "Submitted to Stochastic Environmental Research and Risk Assessment."
   ]
  }
 ],
 "metadata": {
  "interpreter": {
   "hash": "123d6e892dde0eaaf77021662f39277b0eb55e7d003991bb2cba8a025a50755a"
  },
  "kernelspec": {
   "display_name": "Python 3.6.13 64-bit ('download_data': conda)",
   "name": "python3"
  },
  "language_info": {
   "codemirror_mode": {
    "name": "ipython",
    "version": 3
   },
   "file_extension": ".py",
   "mimetype": "text/x-python",
   "name": "python",
   "nbconvert_exporter": "python",
   "pygments_lexer": "ipython3",
   "version": "3.8.12"
  },
  "orig_nbformat": 4
 },
 "nbformat": 4,
 "nbformat_minor": 2
}
