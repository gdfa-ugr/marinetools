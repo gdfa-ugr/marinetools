{
 "cells": [
  {
   "cell_type": "markdown",
   "metadata": {},
   "source": [
    "# Ex.01: Precipitation at Sierra Nevada (Spain)"
   ]
  },
  {
   "cell_type": "markdown",
   "metadata": {},
   "source": [
    "The first example is devoted to analyze the precipitation regime at XXX strong seasonality is observed. In order to guarantee that the model captures this temporal variability a Box-Cox transformation of input data will be done. Part of this example is included in [Cobos et al, 2021](link). As in example 01 (Precipitation at Sierra Nevada), the steps will be the following: \r\n",
    "\r\n",
    "1. Load marinetools module\r\n",
    "2. Read the input data (observations, hindcasted, etc ...) and create the dictionary to fit the non-stationary probability model (PM)\r\n",
    "3. Call marinetools.temporal.analysis.marginalfit for fitting the parameters of the PM\r\n",
    "4. Create the dictionary for the multivariate and temporal dependency\r\n",
    "5. Call marinetools.temporal.analysis.dependency to fit the parameters of the autoregressive model\r\n",
    "6. Create the dictionary with the properties of the simulations\r\n",
    "7. Call marinetools.temporal.simulation.simulation to generate new statistically equivalent time series\r\n",
    "8. Call several plotting functions included marinetools.graphics to assess the goodness of fit"
   ]
  },
  {
   "cell_type": "markdown",
   "metadata": {},
   "source": [
    "## 1. Load marinetools module\r\n",
    "\r\n",
    "The following code load the basic functions (read data, analysis, simulation and plots) included in marinetools"
   ]
  },
  {
   "cell_type": "code",
   "execution_count": null,
   "metadata": {},
   "outputs": [],
   "source": [
    "from marinetools.utils import read\r\n",
    "from marinetools.temporal import analysis\r\n",
    "from marinetools.temporal import simulation\r\n",
    "from marinetools.graphics import plots"
   ]
  },
  {
   "cell_type": "markdown",
   "metadata": {},
   "source": [
    "## 2. Read the input data and create the dictionary to make the marginal fit\r\n",
    "\r\n",
    "For examples of reading files go to Ex01. The following code read the projections of freshwater river discharge from the RCP2.6 of the REMO2009 model in variable called \"Qd\". The input file is a xlsx file. As usually, some noise is included to ensure that the input variable is continuous and not discrete, which makes more difficult the analysis."
   ]
  },
  {
   "cell_type": "code",
   "execution_count": null,
   "metadata": {},
   "outputs": [],
   "source": [
    "data = read.xlsx(\"data/precipitacion\")\r\n",
    "data = data.loc[data[\"pr\"] > 1]"
   ]
  },
  {
   "cell_type": "markdown",
   "metadata": {},
   "source": [
    "Once the data is read, it is needed to create the dictionary with the properties about the temporal fluctuation and the probability models. In this example, a single PM given by a Weibull of maxima which parameter will be expanded in time using the sinusoidal structure and with 10 terms will be given. As it was depicted before, this example has the problem that high variability is found. In order to facilitate the convergence of the optimization, a previous Box-Cox transformation will be given. This information is translated to the dictionary as follow."
   ]
  },
  {
   "cell_type": "code",
   "execution_count": null,
   "metadata": {},
   "outputs": [],
   "source": [
    "params = {\r\n",
    "    \"pr\": {\r\n",
    "        \"var\": \"pr\",\r\n",
    "        \"non_stat_analysis\": True,\r\n",
    "        \"basis_function\": {\"method\": \"trigonometric\", \"noterms\": 5},\r\n",
    "        \"fun\": {0: \"weibull_max\"},\r\n",
    "        \"transform\": {\"make\": True, \"plot\": False, \"method\": \"box-cox\"},\r\n",
    "        \"ws_ps\": [],\r\n",
    "    }\r\n",
    "}\r\n"
   ]
  },
  {
   "cell_type": "markdown",
   "metadata": {},
   "source": []
  },
  {
   "cell_type": "markdown",
   "metadata": {},
   "source": [
    "## 3. Make the marginal fit\r\n",
    "The following code will fit the parameters to the data."
   ]
  },
  {
   "cell_type": "code",
   "execution_count": null,
   "metadata": {},
   "outputs": [],
   "source": [
    "analysis.marginalfit(data, params)"
   ]
  },
  {
   "cell_type": "markdown",
   "metadata": {},
   "source": [
    "The result will be saved at the file \"Qd_weibull_max_nonst_1_sinusoidal_10_SLSQP.json\" in the folder \"marginalfit\". Read carefully the information that the tool gives in the shell to understand that the parameters are passed correctly. You can also read the json file with any text editor and follows the results as the previous dictionary."
   ]
  },
  {
   "cell_type": "markdown",
   "metadata": {},
   "source": [
    "## 4. Create the dictionary for the multivariate and temporal dependency\r\n",
    "\r\n",
    "The next step focus on the creation of the dictionary to the AR fit. In this case, it is quite normal to use the same parameters. In some cases, another model can be used."
   ]
  },
  {
   "cell_type": "code",
   "execution_count": null,
   "metadata": {},
   "outputs": [],
   "source": []
  },
  {
   "cell_type": "markdown",
   "metadata": {},
   "source": [
    "## 8. Plots for verification\r\n",
    "\r\n",
    "The following code will show the results from steps 3, 5 and 7. First all, the non-stationary cumulative distribution function is plotted. The following code shows how to represent the normalize (left panel) and not normalized (right panel) plots using the subplot command from matplotlib.pyplot."
   ]
  },
  {
   "cell_type": "code",
   "execution_count": null,
   "metadata": {},
   "outputs": [],
   "source": [
    "import matplotlib.pyplot as plt\r\n",
    "\r\n",
    "params = read.rjson(\"marginalfit/Qd_weibull_max_nonst_1_sinusoidal_10_SLSQP\")\r\n",
    "\r\n",
    "fig, axs = plt.subplots(1, 2)\r\n",
    "axs = axs.flatten()\r\n",
    "params[\"transform\"][\"plot\"] = True\r\n",
    "plots.nonstationary_cdf(\r\n",
    "    data,\r\n",
    "    \"Qd\",\r\n",
    "    params,\r\n",
    "    date_axis=True,\r\n",
    "    ax=axs[0],\r\n",
    "    fname=\"to_axes\",\r\n",
    ")\r\n",
    "\r\n",
    "\r\n",
    "params[\"transform\"][\"plot\"] = False\r\n",
    "plots.nonstationary_cdf(\r\n",
    "    data,\r\n",
    "    \"Qd\",\r\n",
    "    params,\r\n",
    "    date_axis=True,\r\n",
    "    ax=axs[1],\r\n",
    ")"
   ]
  },
  {
   "cell_type": "markdown",
   "metadata": {},
   "source": [
    "![Ex02_NS_CDF.png][Image]\r\n",
    "\r\n",
    "[Image]: Ex02_NS_CDF.png \"Non-stationary CDF, normalize and not.\""
   ]
  },
  {
   "cell_type": "markdown",
   "metadata": {},
   "source": []
  }
 ],
 "metadata": {
  "interpreter": {
   "hash": "123d6e892dde0eaaf77021662f39277b0eb55e7d003991bb2cba8a025a50755a"
  },
  "kernelspec": {
   "display_name": "Python 3.6.13 64-bit ('download_data': conda)",
   "name": "python3"
  },
  "language_info": {
   "name": "python",
   "version": ""
  },
  "orig_nbformat": 4
 },
 "nbformat": 4,
 "nbformat_minor": 2
}