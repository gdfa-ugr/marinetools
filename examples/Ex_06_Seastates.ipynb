{
 "cells": [
  {
   "cell_type": "markdown",
   "metadata": {},
   "source": [
    "# Ex.06: Sea states at the Alboran Sea"
   ]
  },
  {
   "cell_type": "markdown",
   "metadata": {},
   "source": [
    "Finally, a multivariate analysis for wave and wind climate projections at the Alborán Sea (3.608º- W - 36.66º N) is presented using hourly data from the RCP 8.5 scenario and projections of the following Regional Climate Models (RCM) MIROC5, CNRM-CM5, EC-EARTH, HadGEM2-446ES, IPSL-CM5A-MR and MPI-ESM-LR [[1]](#1). The models characteristics are described in [[2]](#2). It comprises the significant wave height (Hs), the wave period (Tp), the mean incident wave direction (DirM), the wind velocity (Vv), and the mean wind incoming direction (Dmv) in a period that spans from 2025/02/01 to 2046/01/01 (Source: [IH Cantabria](\\href{https://ihcantabria.com/software-y-servicios-tic/ihdata/}). The ensemble mean properties were computed using equal weights, a choice that represents the rule of ‘one model-one-vote’ recommended by the IPCC [[3]](#3). The steps will be the following: \n",
    "\n",
    "1. Read one simulation and RCM data\n",
    "2. Plots the bivariate ensemble pdf and autocorrelation"
   ]
  },
  {
   "cell_type": "markdown",
   "metadata": {},
   "source": [
    "## 1. Read one simulation and RCM data\n",
    "\n",
    "The following code load the basic packages (read data, analysis and plots) included in marinetools"
   ]
  },
  {
   "cell_type": "code",
   "execution_count": null,
   "metadata": {},
   "outputs": [],
   "source": [
    "import numpy as np\n",
    "import pandas as pd\n",
    "from marinetools.graphics import plots\n",
    "from marinetools.utils import auxiliar, read"
   ]
  },
  {
   "cell_type": "markdown",
   "metadata": {},
   "source": [
    "## 2. Plots the bivariate ensemble pdf and autocorrelation\n",
    "\n",
    "For examples of reading files go to Ex01. The following code read the projections of freshwater river discharge from the RCP2.6 of the REMO2009 model in variable called \"Qd\". The input file is a xlsx file. As usually, some noise is included to ensure that the input variable is continuous and not discrete, which makes more difficult the analysis."
   ]
  },
  {
   "cell_type": "code",
   "execution_count": null,
   "metadata": {},
   "outputs": [],
   "source": [
    "models = [\n",
    "    \"CCLM4-CanESM2\",\n",
    "    \"CCLM4-MIROC5\",\n",
    "    \"RCA4-CNRM-CM5\",\n",
    "    \"RCA4-EC-EARTH\",\n",
    "    \"RCA4-HadGEM2-ES\",\n",
    "    \"RCA4-IPSL-CM5A-MR\",\n",
    "    \"RCA4-MPI-ESM-LR\",\n",
    "]\n",
    "\n",
    "df_sim = read.csv(\"data/simulation_0035\")\n",
    "\n",
    "df_obs = dict()\n",
    "for i in models:\n",
    "    df_obs[i] = pd.read_csv(\n",
    "        \"data/data_\" + i + \".csv\",\n",
    "        index_col=0,\n",
    "        parse_dates=True,\n",
    "        infer_datetime_format=True,\n",
    "    )\n",
    "\n",
    "\n",
    "vars_ = [\"Hs\", \"Tp\", \"DirM\"]\n",
    "\n",
    "\n",
    "varp = [\"Hs\", \"Tp\"]\n",
    "plots.bivariate_ensemble_pdf(df_sim, df_obs, varp)\n",
    "\n",
    "varp = [\"Hs\", \"DirM\"]\n",
    "plots.bivariate_ensemble_pdf(df_sim, df_obs, varp)\n"
   ]
  },
  {
   "cell_type": "markdown",
   "metadata": {},
   "source": []
  },
  {
   "cell_type": "code",
   "execution_count": null,
   "metadata": {},
   "outputs": [],
   "source": [
    "\n",
    "maxlags = 42\n",
    "lags, c_ = dict(), dict()\n",
    "lagsim, csim_ = dict(), dict()\n",
    "\n",
    "if 1:\n",
    "    for var_ in vars_:\n",
    "        lags[var_] = np.zeros([len(models), maxlags])\n",
    "        c_[var_] = np.zeros([len(models), maxlags])\n",
    "\n",
    "        for ind_, j in enumerate(models):\n",
    "            lags[var_][ind_, :], c_[var_][ind_, :] = auxiliar.acorr(\n",
    "                df_obs[j][var_].values, maxlags=maxlags\n",
    "            )\n",
    "\n",
    "        lagsim[var_], csim_[var_] = auxiliar.acorr(df_sim[var_].values, maxlags=maxlags)\n",
    "\n",
    "\n",
    "plots.ensemble_acorr(lags, lagsim, c_, csim_, vars_, ax=None, fname=None)"
   ]
  },
  {
   "cell_type": "markdown",
   "metadata": {},
   "source": [
    "Further information of this analysis can be found in  [[1]](#1) and [[2]](#2)."
   ]
  },
  {
   "cell_type": "markdown",
   "metadata": {},
   "source": [
    "## References\n",
    "\n",
    "<a id=\"1\">[1]</a> \n",
    "IH, (2019). \n",
    "Elaboración de la metodología y bases de datos para la proyección de impactos de cambio climático a lo largo de la costa española.\n",
    "\n",
    "<a id=\"2\">[2]</a> \n",
    "Pérez, J., Menéndez, M., Losada, I., (2017). \n",
    "Gow2: A global wave hindcast781for coastal applications. \n",
    "Coastal Engineering 124, 1–11.\n",
    "\n",
    "<a id=\"3\">[3]</a> \n",
    "Pörtner, H.O., Roberts, D.C., Masson-Delmotte, V., Zhai, P., Tignor, M.,776Poloczanska, E., Mintenbeck, K., Nicolai, M., Okem, A., Petzold, J., et al., (2019). \n",
    "IPCC special report on the ocean and cryosphere in a changing climate. IPCC Intergovernmental Panel on Climate Change: Geneva, Switzerland 1\n",
    "\n",
    "<a id=\"4\">[4]</a> \n",
    "M. Cobos, P. Otiñar, P. Magaña, A. Lira-Loarca, A. Baquerizo (2021). \n",
    "MarineTools.temporal: A Python package to simulate Earth and environmental timeseries\n",
    "Submitted to Environmental Modelling & Software.\n",
    "\n",
    "\n",
    "<a id=\"5\">[5]</a> \n",
    "Cobos, M., Otíñar, P., Magaña, P., Baquerizo, A. (2021).\n",
    "A method to characterize and simulate climate, earth or environmental vector random processes. \n",
    "Submitted to Stochastic Environmental Research and Risk Assessment.\n",
    "\n"
   ]
  },
  {
   "cell_type": "markdown",
   "metadata": {},
   "source": []
  }
 ],
 "metadata": {
  "interpreter": {
   "hash": "123d6e892dde0eaaf77021662f39277b0eb55e7d003991bb2cba8a025a50755a"
  },
  "kernelspec": {
   "display_name": "Python 3.6.13 64-bit ('download_data': conda)",
   "name": "python3"
  },
  "language_info": {
   "name": "python",
   "version": ""
  },
  "orig_nbformat": 4
 },
 "nbformat": 4,
 "nbformat_minor": 2
}
