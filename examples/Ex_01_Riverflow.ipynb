{
 "cells": [
  {
   "cell_type": "markdown",
   "source": [
    "# Ex.01: Freshwater river flow at the Guadalquivir River Estuary"
   ],
   "metadata": {}
  },
  {
   "cell_type": "markdown",
   "source": [
    "The first example focus on the analysis of the freshwater river flow at a semid arid basin where a strong seasonality is observed. In order to guarantee that the model captures this temporal variability a Box-Cox transformation of input data will be done. Part of this example is included in [[\"1\"]](#1). The steps will be the following: \n",
    "\n",
    "1. Load marinetools packages\n",
    "2. Read the input data (observations, hindcasted, etc ...) and create the dictionary to fit the non-stationary probability model (PM)\n",
    "3. Call marinetools.temporal.analysis.marginalfit for fitting the parameters of the PM"
   ],
   "metadata": {}
  },
  {
   "cell_type": "markdown",
   "source": [
    "## 1. Load marinetools packages\n",
    "\n",
    "The following code load the basic functions (read data, analysis and plots) included in marinetools"
   ],
   "metadata": {}
  },
  {
   "cell_type": "code",
   "execution_count": null,
   "source": [
    "from marinetools.utils import read\r\n",
    "from marinetools.temporal import analysis\r\n",
    "from marinetools.graphics import plots"
   ],
   "outputs": [],
   "metadata": {}
  },
  {
   "cell_type": "markdown",
   "source": [
    "## 2. Read the input data and create the dictionary to make the marginal fit\r\n",
    "\r\n",
    "For examples of reading files go to Ex01. The following code read the projections of freshwater river discharge from the RCP2.6 of the REMO2009 model in variable called \"Qd\". The input file is a xlsx file. As usually, some noise is included to ensure that the input variable is continuous and not discrete, which makes more difficult the analysis."
   ],
   "metadata": {}
  },
  {
   "cell_type": "code",
   "execution_count": null,
   "source": [
    "data = read.xlsx(\"data/CSC_REMO2009_MPI-ESM-LR_rcp26\")\r\n",
    "data = analysis.nanoise(data, \"Qd\")"
   ],
   "outputs": [],
   "metadata": {}
  },
  {
   "cell_type": "markdown",
   "source": [
    "Once the data is read, it is needed to create the dictionary with the properties about the temporal expansion of parameters and the probability models. In this example, a single PM given by a Weibull of maxima which parameter will be expanded in time using the sinusoidal structure and with 10 terms will be given. As it was depicted before, this example has the problem that high variability is found. In order to facilitate the convergence of the optimization, a previous Box-Cox transformation will be given. This information is translated to the dictionary as follow."
   ],
   "metadata": {}
  },
  {
   "cell_type": "code",
   "execution_count": null,
   "source": [
    "params = {\r\n",
    "    \"var\": \"Qd\",\r\n",
    "    \"fun\": {0: \"weibull_max\"},\r\n",
    "    \"non_stat_analysis\": True,\r\n",
    "    \"basis_function\": {\"method\": \"sinusoidal\", \"noterms\": 10},\r\n",
    "    \"transform\": {\"make\": True, \"plot\": False, \"method\": \"box-cox\"},\r\n",
    "}"
   ],
   "outputs": [],
   "metadata": {}
  },
  {
   "cell_type": "markdown",
   "source": [
    "## 3. Make the marginal fit\r\n",
    "The following code will fit the parameters to the data."
   ],
   "metadata": {}
  },
  {
   "cell_type": "code",
   "execution_count": null,
   "source": [
    "analysis.marginalfit(data, params)"
   ],
   "outputs": [],
   "metadata": {}
  },
  {
   "cell_type": "markdown",
   "source": [
    "The result will be saved at the file \"Qd_weibull_max_nonst_1_sinusoidal_10_SLSQP.json\" in the folder \"marginalfit\". Read carefully the information that the tool gives in the shell to understand that the parameters are passed correctly. You can also read the json file with any text editor and follows the results as the previous dictionary."
   ],
   "metadata": {}
  },
  {
   "cell_type": "markdown",
   "source": [
    "## 4. Verification plots\n",
    "\n",
    "The following code will show the results from the marginal fit. First all, the non-stationary cumulative distribution function is plotted. The following code shows how to represent the non-stationary cumulative distribution function of the normalize (left panel) and not normalized (right panel)data using the subplot command from matplotlib.pyplot."
   ],
   "metadata": {}
  },
  {
   "cell_type": "code",
   "execution_count": null,
   "source": [
    "import matplotlib.pyplot as plt\r\n",
    "\r\n",
    "params = read.rjson(\"marginalfit/Qd_weibull_max_nonst_1_sinusoidal_10_SLSQP\")\r\n",
    "\r\n",
    "fig, axs = plt.subplots(1, 2)\r\n",
    "axs = axs.flatten()\r\n",
    "params[\"transform\"][\"plot\"] = True\r\n",
    "plots.nonstationary_cdf(\r\n",
    "    data,\r\n",
    "    \"Qd\",\r\n",
    "    params,\r\n",
    "    date_axis=True,\r\n",
    "    ax=axs[0],\r\n",
    "    fname=\"to_axes\",\r\n",
    ")\r\n",
    "\r\n",
    "\r\n",
    "params[\"transform\"][\"plot\"] = False\r\n",
    "plots.nonstationary_cdf(\r\n",
    "    data,\r\n",
    "    \"Qd\",\r\n",
    "    params,\r\n",
    "    date_axis=True,\r\n",
    "    ax=axs[1],\r\n",
    ")"
   ],
   "outputs": [],
   "metadata": {}
  },
  {
   "cell_type": "markdown",
   "source": [
    "More information about this analysis can be found in [[1]](#1) and [[2]](#2)."
   ],
   "metadata": {}
  },
  {
   "cell_type": "markdown",
   "source": [
    "## References\n",
    "<a id=\"1\">[1]</a> \n",
    "Cobos, M., Otíñar, P., Magaña, P., Lira-Loarca, A., Baquerizo, A. (2021). \n",
    "MarineTools.temporal (v 1.0.0): A Python package to simulate Earth and environmental timeseries.\n",
    "Submitted to Environmental Modelling & Software.\n",
    "\n",
    "\n",
    "<a id=\"2\">[2]</a> \n",
    "Cobos, M., Otíñar, P., Magaña, P., Baquerizo, A. (2021).\n",
    "A method to characterize and simulate climate, earth or environmental vector random processes. \n",
    "Submitted to  Probabilistic Engineering & Mechanics."
   ],
   "metadata": {}
  }
 ],
 "metadata": {
  "interpreter": {
   "hash": "123d6e892dde0eaaf77021662f39277b0eb55e7d003991bb2cba8a025a50755a"
  },
  "kernelspec": {
   "display_name": "Python 3.6.13 64-bit ('download_data': conda)",
   "name": "python3"
  },
  "language_info": {
   "name": "python",
   "version": ""
  },
  "orig_nbformat": 4
 },
 "nbformat": 4,
 "nbformat_minor": 2
}