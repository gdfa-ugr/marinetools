{
 "cells": [
  {
   "cell_type": "markdown",
   "metadata": {},
   "source": [
    "# Ex.00: Set-up a conda environment with requisites for running Marinetools.temporal"
   ]
  },
  {
   "cell_type": "markdown",
   "metadata": {},
   "source": [
    "This file contains the neccesary information to set-up and virtual environment using Anaconda. \n",
    "\n",
    "[Anaconda](https://www.anaconda.com/products/individual) or [Miniconda](https://docs.conda.io/en/latest/miniconda.html) (a minimal installer) can be downloaded freely.\n",
    "\n",
    "Once you have it installed on your computer, open the Anaconda prompt (in Mac and Linux, open a terminal window) and use the cd command (change directory) to go the folder where you have downloaded or cloned [this repository](https://github.com/gdfa-ugr/marinetools/).\n",
    "\n",
    "Create a new environment with all the required packages:\n",
    "\n",
    "```\n",
    "conda env create -f environment.yml\n",
    "```\n",
    "\n",
    "All the required packages have now been installed in an environment called `marinetools`.\n",
    "\n",
    "Now, activate the new environment:\n",
    "\n",
    "```\n",
    "conda activate marinetools\n",
    "```\n",
    "\n",
    "To make `marinetools` available in the environment, you need to execute the following command:\n",
    "\n",
    "```\n",
    "conda-build src\n",
    "```\n",
    "\n",
    "After that, you should be able to import `marinetools` without any issue and run the examples.\n",
    "\n",
    "Following these instructions you will set-up the python environment to run marinetools. So, enjoy it!"
   ]
  },
  {
   "cell_type": "markdown",
   "metadata": {},
   "source": []
  }
 ],
 "metadata": {
  "interpreter": {
   "hash": "123d6e892dde0eaaf77021662f39277b0eb55e7d003991bb2cba8a025a50755a"
  },
  "kernelspec": {
   "display_name": "Python 3.6.13 64-bit ('download_data': conda)",
   "name": "python3"
  },
  "language_info": {
   "name": "python",
   "version": ""
  },
  "orig_nbformat": 4
 },
 "nbformat": 4,
 "nbformat_minor": 2
}
