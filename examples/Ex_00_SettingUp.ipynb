{
 "cells": [
  {
   "cell_type": "markdown",
   "source": [
    "# Ex.00: Set-up a virtual environment with requisites for running Marinetools.temporal"
   ],
   "metadata": {}
  },
  {
   "cell_type": "markdown",
   "source": [
    "This file contains the neccesary information to set-up and virtual environment using anaconda. Other options can be found. So, if you are an unexperienced user we recommend to download and install the individual edition of anaconda software (https://www.anaconda.com/products/individual). Once the software is installed, you can download or clone the repository https://github.com/gdfa-ugr/marinetools/. In the next step you should indicate to anaconda that the python packages will be installed from conda-forge channel (https://conda-forge.org/):"
   ],
   "metadata": {}
  },
  {
   "cell_type": "code",
   "execution_count": null,
   "source": [
    "conda config --add channels conda-forge\r\n",
    "conda config --set channel_priority strict"
   ],
   "outputs": [],
   "metadata": {}
  },
  {
   "cell_type": "markdown",
   "source": [
    "Once you have add and set the conda-forge channel for installing the more updated packages, you can create the virtual environment just coding:"
   ],
   "metadata": {}
  },
  {
   "cell_type": "markdown",
   "source": [
    "conda create --name <venv> --file \"path_to_requeriments.txt\""
   ],
   "metadata": {}
  },
  {
   "cell_type": "markdown",
   "source": [
    "where <venv> should be replaced by the name of your new virtual environment and \"path_to_requeriments.txt\" is the path to the file with the package requeriments that you can find in the example folder. You can also include the path of marinetools framework to your pythonpath. The following line ise an option. So, you can run in the shell"
   ],
   "metadata": {}
  },
  {
   "cell_type": "code",
   "execution_count": null,
   "source": [
    "conda develop <directory>"
   ],
   "outputs": [],
   "metadata": {}
  },
  {
   "cell_type": "markdown",
   "source": [
    "where <directory> is the path to your local folder of marinetools. Following these instructions you will set-up the python environment to run marinetools. So, enjoy it!"
   ],
   "metadata": {}
  }
 ],
 "metadata": {
  "interpreter": {
   "hash": "123d6e892dde0eaaf77021662f39277b0eb55e7d003991bb2cba8a025a50755a"
  },
  "kernelspec": {
   "display_name": "Python 3.6.13 64-bit ('download_data': conda)",
   "name": "python3"
  },
  "language_info": {
   "name": "python",
   "version": ""
  },
  "orig_nbformat": 4
 },
 "nbformat": 4,
 "nbformat_minor": 2
}